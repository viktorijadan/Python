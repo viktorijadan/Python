{
  "nbformat": 4,
  "nbformat_minor": 0,
  "metadata": {
    "colab": {
      "provenance": []
    },
    "kernelspec": {
      "name": "python3",
      "display_name": "Python 3"
    },
    "language_info": {
      "name": "python"
    }
  },
  "cells": [
    {
      "cell_type": "markdown",
      "source": [
        "# Specialization: Programming and EDA with Python Graded Task"
      ],
      "metadata": {
        "id": "PxWWEceim_Nv"
      }
    },
    {
      "cell_type": "markdown",
      "source": [
        "For the graded task, I chose to recalculate logistic regression with Python. Goal of the task is to compare the suitability of the model for predicting sick persons in the future."
      ],
      "metadata": {
        "id": "hh_z52eenHrq"
      }
    },
    {
      "cell_type": "markdown",
      "source": [
        "I will start my task from exploratory data analysis (EDA).\n"
      ],
      "metadata": {
        "id": "UPpU-zBSuJCn"
      }
    },
    {
      "cell_type": "markdown",
      "source": [
        "# Data import"
      ],
      "metadata": {
        "id": "c8uTZ9eGnhAf"
      }
    },
    {
      "cell_type": "markdown",
      "source": [
        "**First** step is to import the data."
      ],
      "metadata": {
        "id": "BPwMmtFrnlLI"
      }
    },
    {
      "cell_type": "code",
      "source": [
        "import pandas as pd\n",
        "\n",
        "df = pd.read_excel('Graded task Reg.xlsx')\n",
        "\n",
        "df.head()"
      ],
      "metadata": {
        "colab": {
          "base_uri": "https://localhost:8080/",
          "height": 226
        },
        "id": "cA_bimecnkR6",
        "outputId": "0bd828f7-7c2a-4aa1-e19c-4acfa73da4a6"
      },
      "execution_count": 27,
      "outputs": [
        {
          "output_type": "execute_result",
          "data": {
            "text/plain": [
              "   male  age  education  currentSmoker  cigsPerDay  BPMeds  prevalentStroke  \\\n",
              "0     1   39        4.0              0         0.0     0.0                0   \n",
              "1     0   46        2.0              0         0.0     0.0                0   \n",
              "2     1   48        1.0              1        20.0     0.0                0   \n",
              "3     0   61        3.0              1        30.0     0.0                0   \n",
              "4     0   46        3.0              1        23.0     0.0                0   \n",
              "\n",
              "   prevalentHyp  diabetes  totChol  sysBP  diaBP    BMI  heartRate  glucose  \\\n",
              "0             0         0    195.0  106.0   70.0  26.97       80.0     77.0   \n",
              "1             0         0    250.0  121.0   81.0  28.73       95.0     76.0   \n",
              "2             0         0    245.0  127.5   80.0  25.34       75.0     70.0   \n",
              "3             1         0    225.0  150.0   95.0  28.58       65.0    103.0   \n",
              "4             0         0    285.0  130.0   84.0  23.10       85.0     85.0   \n",
              "\n",
              "   TenYearCHD  \n",
              "0           0  \n",
              "1           0  \n",
              "2           0  \n",
              "3           1  \n",
              "4           0  "
            ],
            "text/html": [
              "\n",
              "  <div id=\"df-af5e371a-35dd-4617-9499-1e132b09ffa2\" class=\"colab-df-container\">\n",
              "    <div>\n",
              "<style scoped>\n",
              "    .dataframe tbody tr th:only-of-type {\n",
              "        vertical-align: middle;\n",
              "    }\n",
              "\n",
              "    .dataframe tbody tr th {\n",
              "        vertical-align: top;\n",
              "    }\n",
              "\n",
              "    .dataframe thead th {\n",
              "        text-align: right;\n",
              "    }\n",
              "</style>\n",
              "<table border=\"1\" class=\"dataframe\">\n",
              "  <thead>\n",
              "    <tr style=\"text-align: right;\">\n",
              "      <th></th>\n",
              "      <th>male</th>\n",
              "      <th>age</th>\n",
              "      <th>education</th>\n",
              "      <th>currentSmoker</th>\n",
              "      <th>cigsPerDay</th>\n",
              "      <th>BPMeds</th>\n",
              "      <th>prevalentStroke</th>\n",
              "      <th>prevalentHyp</th>\n",
              "      <th>diabetes</th>\n",
              "      <th>totChol</th>\n",
              "      <th>sysBP</th>\n",
              "      <th>diaBP</th>\n",
              "      <th>BMI</th>\n",
              "      <th>heartRate</th>\n",
              "      <th>glucose</th>\n",
              "      <th>TenYearCHD</th>\n",
              "    </tr>\n",
              "  </thead>\n",
              "  <tbody>\n",
              "    <tr>\n",
              "      <th>0</th>\n",
              "      <td>1</td>\n",
              "      <td>39</td>\n",
              "      <td>4.0</td>\n",
              "      <td>0</td>\n",
              "      <td>0.0</td>\n",
              "      <td>0.0</td>\n",
              "      <td>0</td>\n",
              "      <td>0</td>\n",
              "      <td>0</td>\n",
              "      <td>195.0</td>\n",
              "      <td>106.0</td>\n",
              "      <td>70.0</td>\n",
              "      <td>26.97</td>\n",
              "      <td>80.0</td>\n",
              "      <td>77.0</td>\n",
              "      <td>0</td>\n",
              "    </tr>\n",
              "    <tr>\n",
              "      <th>1</th>\n",
              "      <td>0</td>\n",
              "      <td>46</td>\n",
              "      <td>2.0</td>\n",
              "      <td>0</td>\n",
              "      <td>0.0</td>\n",
              "      <td>0.0</td>\n",
              "      <td>0</td>\n",
              "      <td>0</td>\n",
              "      <td>0</td>\n",
              "      <td>250.0</td>\n",
              "      <td>121.0</td>\n",
              "      <td>81.0</td>\n",
              "      <td>28.73</td>\n",
              "      <td>95.0</td>\n",
              "      <td>76.0</td>\n",
              "      <td>0</td>\n",
              "    </tr>\n",
              "    <tr>\n",
              "      <th>2</th>\n",
              "      <td>1</td>\n",
              "      <td>48</td>\n",
              "      <td>1.0</td>\n",
              "      <td>1</td>\n",
              "      <td>20.0</td>\n",
              "      <td>0.0</td>\n",
              "      <td>0</td>\n",
              "      <td>0</td>\n",
              "      <td>0</td>\n",
              "      <td>245.0</td>\n",
              "      <td>127.5</td>\n",
              "      <td>80.0</td>\n",
              "      <td>25.34</td>\n",
              "      <td>75.0</td>\n",
              "      <td>70.0</td>\n",
              "      <td>0</td>\n",
              "    </tr>\n",
              "    <tr>\n",
              "      <th>3</th>\n",
              "      <td>0</td>\n",
              "      <td>61</td>\n",
              "      <td>3.0</td>\n",
              "      <td>1</td>\n",
              "      <td>30.0</td>\n",
              "      <td>0.0</td>\n",
              "      <td>0</td>\n",
              "      <td>1</td>\n",
              "      <td>0</td>\n",
              "      <td>225.0</td>\n",
              "      <td>150.0</td>\n",
              "      <td>95.0</td>\n",
              "      <td>28.58</td>\n",
              "      <td>65.0</td>\n",
              "      <td>103.0</td>\n",
              "      <td>1</td>\n",
              "    </tr>\n",
              "    <tr>\n",
              "      <th>4</th>\n",
              "      <td>0</td>\n",
              "      <td>46</td>\n",
              "      <td>3.0</td>\n",
              "      <td>1</td>\n",
              "      <td>23.0</td>\n",
              "      <td>0.0</td>\n",
              "      <td>0</td>\n",
              "      <td>0</td>\n",
              "      <td>0</td>\n",
              "      <td>285.0</td>\n",
              "      <td>130.0</td>\n",
              "      <td>84.0</td>\n",
              "      <td>23.10</td>\n",
              "      <td>85.0</td>\n",
              "      <td>85.0</td>\n",
              "      <td>0</td>\n",
              "    </tr>\n",
              "  </tbody>\n",
              "</table>\n",
              "</div>\n",
              "    <div class=\"colab-df-buttons\">\n",
              "\n",
              "  <div class=\"colab-df-container\">\n",
              "    <button class=\"colab-df-convert\" onclick=\"convertToInteractive('df-af5e371a-35dd-4617-9499-1e132b09ffa2')\"\n",
              "            title=\"Convert this dataframe to an interactive table.\"\n",
              "            style=\"display:none;\">\n",
              "\n",
              "  <svg xmlns=\"http://www.w3.org/2000/svg\" height=\"24px\" viewBox=\"0 -960 960 960\">\n",
              "    <path d=\"M120-120v-720h720v720H120Zm60-500h600v-160H180v160Zm220 220h160v-160H400v160Zm0 220h160v-160H400v160ZM180-400h160v-160H180v160Zm440 0h160v-160H620v160ZM180-180h160v-160H180v160Zm440 0h160v-160H620v160Z\"/>\n",
              "  </svg>\n",
              "    </button>\n",
              "\n",
              "  <style>\n",
              "    .colab-df-container {\n",
              "      display:flex;\n",
              "      gap: 12px;\n",
              "    }\n",
              "\n",
              "    .colab-df-convert {\n",
              "      background-color: #E8F0FE;\n",
              "      border: none;\n",
              "      border-radius: 50%;\n",
              "      cursor: pointer;\n",
              "      display: none;\n",
              "      fill: #1967D2;\n",
              "      height: 32px;\n",
              "      padding: 0 0 0 0;\n",
              "      width: 32px;\n",
              "    }\n",
              "\n",
              "    .colab-df-convert:hover {\n",
              "      background-color: #E2EBFA;\n",
              "      box-shadow: 0px 1px 2px rgba(60, 64, 67, 0.3), 0px 1px 3px 1px rgba(60, 64, 67, 0.15);\n",
              "      fill: #174EA6;\n",
              "    }\n",
              "\n",
              "    .colab-df-buttons div {\n",
              "      margin-bottom: 4px;\n",
              "    }\n",
              "\n",
              "    [theme=dark] .colab-df-convert {\n",
              "      background-color: #3B4455;\n",
              "      fill: #D2E3FC;\n",
              "    }\n",
              "\n",
              "    [theme=dark] .colab-df-convert:hover {\n",
              "      background-color: #434B5C;\n",
              "      box-shadow: 0px 1px 3px 1px rgba(0, 0, 0, 0.15);\n",
              "      filter: drop-shadow(0px 1px 2px rgba(0, 0, 0, 0.3));\n",
              "      fill: #FFFFFF;\n",
              "    }\n",
              "  </style>\n",
              "\n",
              "    <script>\n",
              "      const buttonEl =\n",
              "        document.querySelector('#df-af5e371a-35dd-4617-9499-1e132b09ffa2 button.colab-df-convert');\n",
              "      buttonEl.style.display =\n",
              "        google.colab.kernel.accessAllowed ? 'block' : 'none';\n",
              "\n",
              "      async function convertToInteractive(key) {\n",
              "        const element = document.querySelector('#df-af5e371a-35dd-4617-9499-1e132b09ffa2');\n",
              "        const dataTable =\n",
              "          await google.colab.kernel.invokeFunction('convertToInteractive',\n",
              "                                                    [key], {});\n",
              "        if (!dataTable) return;\n",
              "\n",
              "        const docLinkHtml = 'Like what you see? Visit the ' +\n",
              "          '<a target=\"_blank\" href=https://colab.research.google.com/notebooks/data_table.ipynb>data table notebook</a>'\n",
              "          + ' to learn more about interactive tables.';\n",
              "        element.innerHTML = '';\n",
              "        dataTable['output_type'] = 'display_data';\n",
              "        await google.colab.output.renderOutput(dataTable, element);\n",
              "        const docLink = document.createElement('div');\n",
              "        docLink.innerHTML = docLinkHtml;\n",
              "        element.appendChild(docLink);\n",
              "      }\n",
              "    </script>\n",
              "  </div>\n",
              "\n",
              "\n",
              "<div id=\"df-594be342-054a-4b91-b67d-11afb4d02489\">\n",
              "  <button class=\"colab-df-quickchart\" onclick=\"quickchart('df-594be342-054a-4b91-b67d-11afb4d02489')\"\n",
              "            title=\"Suggest charts\"\n",
              "            style=\"display:none;\">\n",
              "\n",
              "<svg xmlns=\"http://www.w3.org/2000/svg\" height=\"24px\"viewBox=\"0 0 24 24\"\n",
              "     width=\"24px\">\n",
              "    <g>\n",
              "        <path d=\"M19 3H5c-1.1 0-2 .9-2 2v14c0 1.1.9 2 2 2h14c1.1 0 2-.9 2-2V5c0-1.1-.9-2-2-2zM9 17H7v-7h2v7zm4 0h-2V7h2v10zm4 0h-2v-4h2v4z\"/>\n",
              "    </g>\n",
              "</svg>\n",
              "  </button>\n",
              "\n",
              "<style>\n",
              "  .colab-df-quickchart {\n",
              "      --bg-color: #E8F0FE;\n",
              "      --fill-color: #1967D2;\n",
              "      --hover-bg-color: #E2EBFA;\n",
              "      --hover-fill-color: #174EA6;\n",
              "      --disabled-fill-color: #AAA;\n",
              "      --disabled-bg-color: #DDD;\n",
              "  }\n",
              "\n",
              "  [theme=dark] .colab-df-quickchart {\n",
              "      --bg-color: #3B4455;\n",
              "      --fill-color: #D2E3FC;\n",
              "      --hover-bg-color: #434B5C;\n",
              "      --hover-fill-color: #FFFFFF;\n",
              "      --disabled-bg-color: #3B4455;\n",
              "      --disabled-fill-color: #666;\n",
              "  }\n",
              "\n",
              "  .colab-df-quickchart {\n",
              "    background-color: var(--bg-color);\n",
              "    border: none;\n",
              "    border-radius: 50%;\n",
              "    cursor: pointer;\n",
              "    display: none;\n",
              "    fill: var(--fill-color);\n",
              "    height: 32px;\n",
              "    padding: 0;\n",
              "    width: 32px;\n",
              "  }\n",
              "\n",
              "  .colab-df-quickchart:hover {\n",
              "    background-color: var(--hover-bg-color);\n",
              "    box-shadow: 0 1px 2px rgba(60, 64, 67, 0.3), 0 1px 3px 1px rgba(60, 64, 67, 0.15);\n",
              "    fill: var(--button-hover-fill-color);\n",
              "  }\n",
              "\n",
              "  .colab-df-quickchart-complete:disabled,\n",
              "  .colab-df-quickchart-complete:disabled:hover {\n",
              "    background-color: var(--disabled-bg-color);\n",
              "    fill: var(--disabled-fill-color);\n",
              "    box-shadow: none;\n",
              "  }\n",
              "\n",
              "  .colab-df-spinner {\n",
              "    border: 2px solid var(--fill-color);\n",
              "    border-color: transparent;\n",
              "    border-bottom-color: var(--fill-color);\n",
              "    animation:\n",
              "      spin 1s steps(1) infinite;\n",
              "  }\n",
              "\n",
              "  @keyframes spin {\n",
              "    0% {\n",
              "      border-color: transparent;\n",
              "      border-bottom-color: var(--fill-color);\n",
              "      border-left-color: var(--fill-color);\n",
              "    }\n",
              "    20% {\n",
              "      border-color: transparent;\n",
              "      border-left-color: var(--fill-color);\n",
              "      border-top-color: var(--fill-color);\n",
              "    }\n",
              "    30% {\n",
              "      border-color: transparent;\n",
              "      border-left-color: var(--fill-color);\n",
              "      border-top-color: var(--fill-color);\n",
              "      border-right-color: var(--fill-color);\n",
              "    }\n",
              "    40% {\n",
              "      border-color: transparent;\n",
              "      border-right-color: var(--fill-color);\n",
              "      border-top-color: var(--fill-color);\n",
              "    }\n",
              "    60% {\n",
              "      border-color: transparent;\n",
              "      border-right-color: var(--fill-color);\n",
              "    }\n",
              "    80% {\n",
              "      border-color: transparent;\n",
              "      border-right-color: var(--fill-color);\n",
              "      border-bottom-color: var(--fill-color);\n",
              "    }\n",
              "    90% {\n",
              "      border-color: transparent;\n",
              "      border-bottom-color: var(--fill-color);\n",
              "    }\n",
              "  }\n",
              "</style>\n",
              "\n",
              "  <script>\n",
              "    async function quickchart(key) {\n",
              "      const quickchartButtonEl =\n",
              "        document.querySelector('#' + key + ' button');\n",
              "      quickchartButtonEl.disabled = true;  // To prevent multiple clicks.\n",
              "      quickchartButtonEl.classList.add('colab-df-spinner');\n",
              "      try {\n",
              "        const charts = await google.colab.kernel.invokeFunction(\n",
              "            'suggestCharts', [key], {});\n",
              "      } catch (error) {\n",
              "        console.error('Error during call to suggestCharts:', error);\n",
              "      }\n",
              "      quickchartButtonEl.classList.remove('colab-df-spinner');\n",
              "      quickchartButtonEl.classList.add('colab-df-quickchart-complete');\n",
              "    }\n",
              "    (() => {\n",
              "      let quickchartButtonEl =\n",
              "        document.querySelector('#df-594be342-054a-4b91-b67d-11afb4d02489 button');\n",
              "      quickchartButtonEl.style.display =\n",
              "        google.colab.kernel.accessAllowed ? 'block' : 'none';\n",
              "    })();\n",
              "  </script>\n",
              "</div>\n",
              "    </div>\n",
              "  </div>\n"
            ]
          },
          "metadata": {},
          "execution_count": 27
        }
      ]
    },
    {
      "cell_type": "markdown",
      "source": [
        "**Second** step is to have the names of all columns in dataset, so that it would be more convenient to use the necessary ones later."
      ],
      "metadata": {
        "id": "-uZP4_62o-65"
      }
    },
    {
      "cell_type": "code",
      "source": [
        "print(\"Columns in the DataFrame:\")\n",
        "df.columns.tolist()"
      ],
      "metadata": {
        "colab": {
          "base_uri": "https://localhost:8080/"
        },
        "id": "WK4L9gX7o_gx",
        "outputId": "7cb998ad-4f43-4e79-cb03-3daf7eee04bd"
      },
      "execution_count": 29,
      "outputs": [
        {
          "output_type": "stream",
          "name": "stdout",
          "text": [
            "Columns in the DataFrame:\n"
          ]
        },
        {
          "output_type": "execute_result",
          "data": {
            "text/plain": [
              "['male',\n",
              " 'age',\n",
              " 'education',\n",
              " 'currentSmoker',\n",
              " 'cigsPerDay',\n",
              " 'BPMeds',\n",
              " 'prevalentStroke',\n",
              " 'prevalentHyp',\n",
              " 'diabetes',\n",
              " 'totChol',\n",
              " 'sysBP',\n",
              " 'diaBP',\n",
              " 'BMI',\n",
              " 'heartRate',\n",
              " 'glucose',\n",
              " 'TenYearCHD']"
            ]
          },
          "metadata": {},
          "execution_count": 29
        }
      ]
    },
    {
      "cell_type": "markdown",
      "source": [
        "**After importing the data, the next step involves checking the dataset.**"
      ],
      "metadata": {
        "id": "vaz_VwvzxDaQ"
      }
    },
    {
      "cell_type": "markdown",
      "source": [
        "# Data checking"
      ],
      "metadata": {
        "id": "QTbZdDZzoHck"
      }
    },
    {
      "cell_type": "markdown",
      "source": [
        "**First** step is to count the rows of dataframe."
      ],
      "metadata": {
        "id": "a51ACVGjodhg"
      }
    },
    {
      "cell_type": "code",
      "source": [
        "num_rows = df.shape[0]\n",
        "\n",
        "print(f'The number of rows in the DataFrame is: {num_rows}')"
      ],
      "metadata": {
        "colab": {
          "base_uri": "https://localhost:8080/"
        },
        "id": "CeQQP7ovopWf",
        "outputId": "54578259-9637-40e6-be98-673409ddbcaf"
      },
      "execution_count": 24,
      "outputs": [
        {
          "output_type": "stream",
          "name": "stdout",
          "text": [
            "The number of rows in the DataFrame is: 4238\n"
          ]
        }
      ]
    },
    {
      "cell_type": "markdown",
      "source": [
        "**Second** step involves determining the count of individuals classified as sick (1) and healthy (0) within the TenYearCHD column."
      ],
      "metadata": {
        "id": "Zgc9csR0pywY"
      }
    },
    {
      "cell_type": "code",
      "source": [
        "columns_to_check = ['TenYearCHD']\n",
        "\n",
        "for col in columns_to_check:\n",
        "    unique_values = df[col].unique()\n",
        "    value_counts = df[col].value_counts()\n",
        "    print(f\"Column: {col}\")\n",
        "    print(f\"Unique values: {unique_values}\")\n",
        "    print(f\"Value counts:\\n{value_counts}\\n\")"
      ],
      "metadata": {
        "colab": {
          "base_uri": "https://localhost:8080/"
        },
        "id": "8LtbxGj3p3u6",
        "outputId": "1beeb410-abb9-4138-ad50-a0f7f8df2afa"
      },
      "execution_count": 25,
      "outputs": [
        {
          "output_type": "stream",
          "name": "stdout",
          "text": [
            "Column: TenYearCHD\n",
            "Unique values: [0 1]\n",
            "Value counts:\n",
            "0    3594\n",
            "1     644\n",
            "Name: TenYearCHD, dtype: int64\n",
            "\n"
          ]
        }
      ]
    },
    {
      "cell_type": "markdown",
      "source": [
        "**Third** step involves identifying the quantity of missing values within the dataset and determining the types of existing data present."
      ],
      "metadata": {
        "id": "AanHGrmBqPSn"
      }
    },
    {
      "cell_type": "code",
      "source": [
        "columns_to_check = ['male', 'age', 'education', 'currentSmoker', 'cigsPerDay', 'BPMeds',\n",
        "                    'prevalentStroke', 'prevalentHyp', 'diabetes', 'totChol', 'sysBP',\n",
        "                    'diaBP', 'BMI', 'heartRate', 'glucose', 'TenYearCHD']\n",
        "\n",
        "results = []\n",
        "\n",
        "for col in columns_to_check:\n",
        "    if set(df[col].unique()) == {0, 1}:\n",
        "        classification = 'Binary'\n",
        "    else:\n",
        "        classification = 'Numbers'\n",
        "\n",
        "    missing_values = df[col].isnull().sum()\n",
        "    data_type = df[col].dtype\n",
        "\n",
        "    col_df = pd.DataFrame({\n",
        "        'Column': [col],\n",
        "        'Missing Values': [missing_values],\n",
        "        'Data Type': [str(data_type)]\n",
        "    })\n",
        "    results.append(col_df)\n",
        "\n",
        "final_result = pd.concat(results, ignore_index=True)\n",
        "\n",
        "print(final_result)"
      ],
      "metadata": {
        "colab": {
          "base_uri": "https://localhost:8080/"
        },
        "id": "vaFPTR3gqQ3P",
        "outputId": "6e6d9794-1c1f-46b2-adac-2129cab9242f"
      },
      "execution_count": 26,
      "outputs": [
        {
          "output_type": "stream",
          "name": "stdout",
          "text": [
            "             Column  Missing Values Data Type\n",
            "0              male               0     int64\n",
            "1               age               0     int64\n",
            "2         education             105   float64\n",
            "3     currentSmoker               0     int64\n",
            "4        cigsPerDay              29   float64\n",
            "5            BPMeds              53   float64\n",
            "6   prevalentStroke               0     int64\n",
            "7      prevalentHyp               0     int64\n",
            "8          diabetes               0     int64\n",
            "9           totChol              50   float64\n",
            "10            sysBP               0   float64\n",
            "11            diaBP               0   float64\n",
            "12              BMI              19   float64\n",
            "13        heartRate               1   float64\n",
            "14          glucose             388   float64\n",
            "15       TenYearCHD               0     int64\n"
          ]
        }
      ]
    },
    {
      "cell_type": "markdown",
      "source": [
        "From the third step, we observe that 7 columns contain missing values. Additionally, the data comprises columns with the int64 data type, which stores whole numbers without decimal points, and float64 data type, used for storing numerical values containing decimal points or fractions."
      ],
      "metadata": {
        "id": "o0DYH92VrsJo"
      }
    },
    {
      "cell_type": "markdown",
      "source": [
        "**Fourth** step involves checking for any duplicate entries within the dataset."
      ],
      "metadata": {
        "id": "Ehn6LGh4vjhh"
      }
    },
    {
      "cell_type": "code",
      "source": [
        "duplicate_rows = df[df.duplicated()]\n",
        "\n",
        "print(\"Duplicate Rows:\")\n",
        "print(duplicate_rows)\n",
        "\n",
        "num_duplicates = len(duplicate_rows)\n",
        "print(f\"\\nNumber of duplicate rows: {num_duplicates}\")"
      ],
      "metadata": {
        "colab": {
          "base_uri": "https://localhost:8080/"
        },
        "id": "eHOWjJJSwFlp",
        "outputId": "96bc470c-4ceb-4ec4-b57c-460696f50977"
      },
      "execution_count": 31,
      "outputs": [
        {
          "output_type": "stream",
          "name": "stdout",
          "text": [
            "Duplicate Rows:\n",
            "Empty DataFrame\n",
            "Columns: [male, age, education, currentSmoker, cigsPerDay, BPMeds, prevalentStroke, prevalentHyp, diabetes, totChol, sysBP, diaBP, BMI, heartRate, glucose, TenYearCHD]\n",
            "Index: []\n",
            "\n",
            "Number of duplicate rows: 0\n"
          ]
        }
      ]
    },
    {
      "cell_type": "markdown",
      "source": [
        "From fourth step, it is evident that our dataset contains no duplicates, allowing us to proceed further."
      ],
      "metadata": {
        "id": "wA84CvTswWoy"
      }
    },
    {
      "cell_type": "markdown",
      "source": [
        "**From the data checking phase, we discovered that the primary issue requiring attention is handling missing values.**"
      ],
      "metadata": {
        "id": "WrrjMYG1ws2V"
      }
    },
    {
      "cell_type": "markdown",
      "source": [
        "# Data cleaning"
      ],
      "metadata": {
        "id": "1V6ZnkOVr9mj"
      }
    },
    {
      "cell_type": "markdown",
      "source": [
        "**First** step is to identify the columns that contain missing values within the dataset."
      ],
      "metadata": {
        "id": "g8_81DQSybxX"
      }
    },
    {
      "cell_type": "code",
      "source": [
        "columns_with_missing_values = df.columns[df.isnull().any()].tolist()\n",
        "\n",
        "for column in columns_with_missing_values:\n",
        "    unique_values = df[column].unique()\n",
        "    print(f\"Column '{column}' unique values (including NaN): {unique_values}\")"
      ],
      "metadata": {
        "colab": {
          "base_uri": "https://localhost:8080/"
        },
        "id": "uS1Y94gvzzT5",
        "outputId": "afb03418-02e4-4488-866b-cd96daab9ab8"
      },
      "execution_count": 7,
      "outputs": [
        {
          "output_type": "stream",
          "name": "stdout",
          "text": [
            "Column 'education' unique values (including NaN): [ 4.  2.  1.  3. nan]\n",
            "Column 'cigsPerDay' unique values (including NaN): [ 0. 20. 30. 23. 15.  9. 10.  5. 35. 43.  1. 40.  3.  2. nan 12.  4. 18.\n",
            " 25. 60. 14. 45.  8. 50. 13. 11.  7.  6. 38. 29. 17. 16. 19. 70.]\n",
            "Column 'BPMeds' unique values (including NaN): [ 0.  1. nan]\n",
            "Column 'totChol' unique values (including NaN): [195. 250. 245. 225. 285. 228. 205. 313. 260. 254. 247. 294. 332. 226.\n",
            " 221. 232. 291. 190. 185. 234. 215. 270. 272. 295. 209. 175. 214. 257.\n",
            " 178. 233. 180. 243. 237.  nan 311. 208. 252. 261. 179. 194. 267. 216.\n",
            " 240. 266. 255. 220. 235. 212. 223. 300. 302. 248. 200. 189. 258. 202.\n",
            " 213. 183. 274. 170. 210. 197. 326. 188. 256. 244. 193. 239. 296. 269.\n",
            " 275. 268. 265. 173. 273. 290. 278. 264. 282. 241. 288. 222. 303. 246.\n",
            " 150. 187. 286. 154. 279. 293. 259. 219. 230. 320. 312. 165. 159. 174.\n",
            " 242. 301. 167. 308. 325. 229. 236. 224. 253. 464. 171. 186. 227. 249.\n",
            " 176. 163. 191. 263. 196. 310. 164. 135. 238. 207. 342. 287. 182. 352.\n",
            " 284. 217. 203. 262. 129. 155. 323. 206. 283. 319. 304. 340. 328. 280.\n",
            " 368. 218. 276. 339. 231. 198. 177. 201. 277. 184. 199. 168. 292. 305.\n",
            " 306. 152. 161. 181. 251. 271. 370. 439. 145. 330. 157. 398. 162. 314.\n",
            " 166. 160. 281. 289. 355. 307. 156. 329. 143. 211. 298. 334. 192. 204.\n",
            " 318. 309. 353. 360. 335. 158. 372. 346. 169. 140. 324. 600. 315. 392.\n",
            " 322. 149. 137. 172. 317. 358. 153. 345. 391. 410. 297. 356. 338. 107.\n",
            " 148. 366. 333. 327. 344. 126. 365. 362. 316. 144. 351. 390. 321. 405.\n",
            " 359. 350. 336. 380. 299. 124. 371. 113. 354. 382. 364. 341. 133. 367.\n",
            " 432. 337. 696. 363. 331. 361. 453. 347. 373. 385. 119.]\n",
            "Column 'BMI' unique values (including NaN): [26.97 28.73 25.34 ... 39.17 26.7  43.67]\n",
            "Column 'heartRate' unique values (including NaN): [ 80.  95.  75.  65.  85.  77.  60.  79.  76.  93.  72.  98.  64.  70.\n",
            "  71.  62.  73.  90.  96.  68.  63.  88.  78.  83. 100.  67.  84.  57.\n",
            "  50.  74.  86.  55.  92.  66.  87. 110.  81.  56.  89.  82.  48. 105.\n",
            "  61.  54.  69.  52.  94. 140. 130.  58. 108. 104.  91.  53.  nan 106.\n",
            "  59.  51. 102. 107. 112. 125. 103.  44.  47.  45.  97. 122. 120.  99.\n",
            " 115. 143. 101.  46.]\n",
            "Column 'glucose' unique values (including NaN): [ 77.  76.  70. 103.  85.  99.  78.  79.  88.  61.  64.  84.  nan  72.\n",
            "  89.  65. 113.  75.  83.  66.  74.  63.  87. 225.  90.  80. 100. 215.\n",
            "  98.  62.  95.  94.  55.  82.  93.  73.  45. 202.  68.  97. 104.  96.\n",
            " 126. 120. 105.  71.  56.  60. 117. 102.  58.  92. 109.  86. 107.  54.\n",
            "  67.  69.  57.  91. 132. 150.  59.  81. 115. 140. 112. 118. 143. 114.\n",
            " 160. 110. 123. 108. 145. 122. 137. 106. 127. 205. 130. 101.  47.  53.\n",
            " 216. 163. 144. 116. 121. 172. 124. 111.  40. 186. 223. 325.  44. 156.\n",
            " 268.  50. 274. 292. 255. 136. 206. 131. 148. 297.  43. 173.  48. 386.\n",
            " 155. 147. 170.  52. 320. 254. 394. 270. 244. 183. 142. 119. 135. 167.\n",
            " 207. 129. 177. 250. 294. 166. 125. 332. 368. 348. 248. 370. 193. 191.\n",
            " 256. 235. 210. 260.]\n"
          ]
        }
      ]
    },
    {
      "cell_type": "markdown",
      "source": [
        "After analyzing the column values, it's evident that the 'education' column contains values [4, 2, 1, 3, NaN], which include NaN (missing) values. Due to the significant presence of missing data, this column will be removed from the dataset to maintain data consistency. Similarly, the 'BPMeds' column, comprising values [0, 1, NaN], will also be deleted due to the presence of missing values. However, columns such as 'cigsPerDay,' 'totChol,' 'BMI,' 'heartRate,' and 'glucose' exhibit a broad range of values. For these columns, the missing values (NaN) will be substituted with the respective column averages. This approach is implemented to retain as much data as possible and ensure data integrity."
      ],
      "metadata": {
        "id": "LLqJ3uZPzdO_"
      }
    },
    {
      "cell_type": "markdown",
      "source": [
        "**Second** step is to delete unnecessary rows and replace other rows with averages."
      ],
      "metadata": {
        "id": "VBO3BK7NyOZt"
      }
    },
    {
      "cell_type": "code",
      "source": [
        "#1_deleting\n",
        "\n",
        "df.dropna(subset=['education','BPMeds'], inplace=True)\n",
        "\n",
        "#2_average\n",
        "\n",
        "df['cigsPerDay'].fillna(df['cigsPerDay'].mean(), inplace=True)\n",
        "df['totChol'].fillna(df['totChol'].mean(), inplace=True)\n",
        "df['BMI'].fillna(df['BMI'].mean(), inplace=True)\n",
        "df['heartRate'].fillna(df['heartRate'].mean(), inplace=True)\n",
        "df['glucose'].fillna(df['glucose'].mean(), inplace=True)"
      ],
      "metadata": {
        "id": "aQeGXWodsCCb"
      },
      "execution_count": 8,
      "outputs": []
    },
    {
      "cell_type": "markdown",
      "source": [
        "**Third** step is to check data rows after cleaning."
      ],
      "metadata": {
        "id": "-n5L7BEgxoH7"
      }
    },
    {
      "cell_type": "code",
      "source": [
        "num_rows_after_cleaning = df.shape[0]\n",
        "\n",
        "print(f'The number of rows after data cleaning is: {num_rows_after_cleaning}')"
      ],
      "metadata": {
        "colab": {
          "base_uri": "https://localhost:8080/"
        },
        "id": "iX5KVIXixPTl",
        "outputId": "c45db34a-91b3-4dc4-ad61-a75a5c6046b8"
      },
      "execution_count": 9,
      "outputs": [
        {
          "output_type": "stream",
          "name": "stdout",
          "text": [
            "The number of rows after data cleaning is: 4080\n"
          ]
        }
      ]
    },
    {
      "cell_type": "markdown",
      "source": [
        "**Forth** step is to check if the columns still have missing values."
      ],
      "metadata": {
        "id": "Fkoq2e89xv2V"
      }
    },
    {
      "cell_type": "code",
      "source": [
        "remaining_missing_values = df.isnull().sum().sum()\n",
        "\n",
        "if remaining_missing_values == 0:\n",
        "    print(\"No missing values remaining after data cleaning.\")\n",
        "else:\n",
        "    print(f\"There are {remaining_missing_values} missing values remaining after data cleaning.\")"
      ],
      "metadata": {
        "colab": {
          "base_uri": "https://localhost:8080/"
        },
        "id": "rBXmp2HEyHkD",
        "outputId": "dd9e025c-64a0-46eb-9003-5ce970a0b641"
      },
      "execution_count": 10,
      "outputs": [
        {
          "output_type": "stream",
          "name": "stdout",
          "text": [
            "No missing values remaining after data cleaning.\n"
          ]
        }
      ]
    },
    {
      "cell_type": "markdown",
      "source": [
        "**Conclusively, following the data cleaning phase, it is established that our dataset no longer contains any missing values. Thus, we can proceed confidently to address outliers in the dataset.**"
      ],
      "metadata": {
        "id": "MO9hyvEt6GkC"
      }
    },
    {
      "cell_type": "markdown",
      "source": [
        "# Outliers"
      ],
      "metadata": {
        "id": "Gkxf3d-NyQLc"
      }
    },
    {
      "cell_type": "markdown",
      "source": [
        "**First** step is to count outliers."
      ],
      "metadata": {
        "id": "pexjVswGyU9j"
      }
    },
    {
      "cell_type": "code",
      "source": [
        "from scipy import stats\n",
        "\n",
        "columns_to_check = ['cigsPerDay', 'totChol', 'sysBP', 'diaBP', 'BMI', 'heartRate', 'glucose']\n",
        "threshold = 3\n",
        "\n",
        "outliers_count = {}\n",
        "for col in columns_to_check:\n",
        "    z_scores = stats.zscore(df[col])\n",
        "    upper_outliers = df[col][z_scores > threshold]\n",
        "    lower_outliers = df[col][z_scores < -threshold]\n",
        "    total_outliers = len(upper_outliers) + len(lower_outliers)\n",
        "    outliers_count[col] = total_outliers\n",
        "\n",
        "num_rows_after_cleaning = df.shape[0]\n",
        "\n",
        "print(f'The number of rows after data cleaning is: {num_rows_after_cleaning}')\n",
        "\n",
        "print(\"Number of outliers in each column:\")\n",
        "for col, count in outliers_count.items():\n",
        "    print(f\"{col}: {count} outliers\")"
      ],
      "metadata": {
        "colab": {
          "base_uri": "https://localhost:8080/"
        },
        "id": "6o6TGGsRyVXp",
        "outputId": "2c2fe374-eeb4-47e2-f131-373a8e23a931"
      },
      "execution_count": 11,
      "outputs": [
        {
          "output_type": "stream",
          "name": "stdout",
          "text": [
            "The number of rows after data cleaning is: 4080\n",
            "Number of outliers in each column:\n",
            "cigsPerDay: 19 outliers\n",
            "totChol: 23 outliers\n",
            "sysBP: 46 outliers\n",
            "diaBP: 40 outliers\n",
            "BMI: 58 outliers\n",
            "heartRate: 20 outliers\n",
            "glucose: 48 outliers\n"
          ]
        }
      ]
    },
    {
      "cell_type": "markdown",
      "source": [
        "The initial analysis revealed the presence of outliers within the columns: 'cigsPerDay', 'totChol', 'sysBP', 'diaBP', 'BMI', 'heartRate', and 'glucose'."
      ],
      "metadata": {
        "id": "7ROYKDRl370Y"
      }
    },
    {
      "cell_type": "markdown",
      "source": [
        "**Second** step involves the removal of identified outliers followed by a check on the dataset's rows post-outlier deletion.\""
      ],
      "metadata": {
        "id": "DaFEX_TV4ROH"
      }
    },
    {
      "cell_type": "code",
      "source": [
        "import numpy as np\n",
        "\n",
        "columns_to_check = ['cigsPerDay', 'totChol', 'sysBP', 'diaBP', 'BMI', 'heartRate', 'glucose']\n",
        "threshold = 3\n",
        "\n",
        "outliers_mask = np.zeros(len(df), dtype=bool)\n",
        "\n",
        "for col in columns_to_check:\n",
        "    z_scores = stats.zscore(df[col])\n",
        "    outliers_mask |= np.abs(z_scores) > threshold\n",
        "\n",
        "cleaned_df = df[~outliers_mask]\n",
        "\n",
        "num_rows = cleaned_df.shape[0]\n",
        "print(\"Number of rows in the DataFrame:\", num_rows)"
      ],
      "metadata": {
        "colab": {
          "base_uri": "https://localhost:8080/"
        },
        "id": "V_WL7P3U4Yo_",
        "outputId": "000f9166-2255-433d-fcf9-ccb0fbc68a63"
      },
      "execution_count": 12,
      "outputs": [
        {
          "output_type": "stream",
          "name": "stdout",
          "text": [
            "Number of rows in the DataFrame: 3866\n"
          ]
        }
      ]
    },
    {
      "cell_type": "markdown",
      "source": [
        "**Third** step aims to assess the extent of data loss incurred post-outlier deletion compared to the dataset's original version."
      ],
      "metadata": {
        "id": "1XG5hUyx7CR-"
      }
    },
    {
      "cell_type": "code",
      "source": [
        "num_rows_original = df.shape[0]\n",
        "\n",
        "num_rows_cleaned = cleaned_df.shape[0]\n",
        "\n",
        "percentage_change = ((num_rows_cleaned - num_rows_original) / num_rows_original) * 100\n",
        "\n",
        "print(f\"Original number of rows: {num_rows_original}\")\n",
        "print(f\"Number of rows after cleaning: {num_rows_cleaned}\")\n",
        "print(f\"Percentage change in number of rows: {round(percentage_change, 2)}%\")"
      ],
      "metadata": {
        "colab": {
          "base_uri": "https://localhost:8080/"
        },
        "id": "Z-lREbVJ7Otj",
        "outputId": "868aff05-e2ec-4d24-a4e0-2500d58fd78b"
      },
      "execution_count": 22,
      "outputs": [
        {
          "output_type": "stream",
          "name": "stdout",
          "text": [
            "Original number of rows: 4238\n",
            "Number of rows after cleaning: 3866\n",
            "Percentage change in number of rows: -8.78%\n"
          ]
        }
      ]
    },
    {
      "cell_type": "markdown",
      "source": [
        "**Upon comparing data before and after the outlier removal process, it was observed that approximately 8.78% of the original dataset was lost. Consequently, we can proceed confidently with further analysis.**"
      ],
      "metadata": {
        "id": "2w-gTbtg7PJw"
      }
    },
    {
      "cell_type": "markdown",
      "source": [
        "# Test and Train Split"
      ],
      "metadata": {
        "id": "GnlgtNqr4osy"
      }
    },
    {
      "cell_type": "markdown",
      "source": [
        "**First** step is to split all\n",
        "cleaned data to train and test data sets."
      ],
      "metadata": {
        "id": "I-RbTuZ34weK"
      }
    },
    {
      "cell_type": "code",
      "source": [
        "from sklearn.model_selection import train_test_split\n",
        "\n",
        "X = cleaned_df.drop('TenYearCHD', axis=1)\n",
        "y = cleaned_df['TenYearCHD']\n",
        "\n",
        "X_train, X_test, y_train, y_test = train_test_split(X, y, test_size=0.2, random_state=42)\n",
        "\n",
        "print(\"Original Dataset:\")\n",
        "print(cleaned_df['TenYearCHD'].value_counts(normalize=True) * 100)\n",
        "print(cleaned_df['TenYearCHD'].value_counts())\n",
        "\n",
        "print(\"\\nTraining Dataset:\")\n",
        "print(y_train.value_counts(normalize=True) * 100)\n",
        "print(y_train.value_counts())\n",
        "\n",
        "print(\"\\nTesting Dataset:\")\n",
        "print(y_test.value_counts(normalize=True) * 100)\n",
        "print(y_test.value_counts())"
      ],
      "metadata": {
        "colab": {
          "base_uri": "https://localhost:8080/"
        },
        "id": "ejVmS7fp4xnq",
        "outputId": "7b562c22-59a4-4a9d-d707-34521aee344c"
      },
      "execution_count": 14,
      "outputs": [
        {
          "output_type": "stream",
          "name": "stdout",
          "text": [
            "Original Dataset:\n",
            "0    86.057941\n",
            "1    13.942059\n",
            "Name: TenYearCHD, dtype: float64\n",
            "0    3327\n",
            "1     539\n",
            "Name: TenYearCHD, dtype: int64\n",
            "\n",
            "Training Dataset:\n",
            "0    85.80207\n",
            "1    14.19793\n",
            "Name: TenYearCHD, dtype: float64\n",
            "0    2653\n",
            "1     439\n",
            "Name: TenYearCHD, dtype: int64\n",
            "\n",
            "Testing Dataset:\n",
            "0    87.080103\n",
            "1    12.919897\n",
            "Name: TenYearCHD, dtype: float64\n",
            "0    674\n",
            "1    100\n",
            "Name: TenYearCHD, dtype: int64\n"
          ]
        }
      ]
    },
    {
      "cell_type": "markdown",
      "source": [
        "**The training and testing datasets maintain a consistent proportion of class distribution similar to the original dataset for both '0' and '1' labels. This preservation of class proportions is crucial to uphold the representativeness of the original dataset. Although the imbalance in class distribution is sustained in both training and testing datasets, there is a slightly higher imbalance noticed in the testing dataset, where '1' instances account for approximately 12.9% compared to 14.2% in the training set. In summary, the data splitting process reasonably retains the class distribution proportions from the original dataset in both training and testing subsets. However, the slightly higher imbalance in the testing dataset compared to the training set should be taken into account during model evaluation and performance assessment.**"
      ],
      "metadata": {
        "id": "fzmhq6OT9Vp4"
      }
    },
    {
      "cell_type": "markdown",
      "source": [
        "# Logistic Regression"
      ],
      "metadata": {
        "id": "veEuzQF39Z7z"
      }
    },
    {
      "cell_type": "markdown",
      "source": [
        "**First** step is to run logistic regression from the train data."
      ],
      "metadata": {
        "id": "NNtfNQH79hrC"
      }
    },
    {
      "cell_type": "code",
      "source": [
        "import statsmodels.api as sm\n",
        "\n",
        "X_with_const = sm.add_constant(X_train)\n",
        "\n",
        "model = sm.Logit(y_train, X_with_const)\n",
        "result = model.fit()\n",
        "\n",
        "print(result.summary())"
      ],
      "metadata": {
        "colab": {
          "base_uri": "https://localhost:8080/"
        },
        "id": "fFO4M98P9hGh",
        "outputId": "7d6b6c61-9f33-4075-dd36-f74443867075"
      },
      "execution_count": 33,
      "outputs": [
        {
          "output_type": "stream",
          "name": "stdout",
          "text": [
            "Optimization terminated successfully.\n",
            "         Current function value: 0.367465\n",
            "         Iterations 7\n",
            "                           Logit Regression Results                           \n",
            "==============================================================================\n",
            "Dep. Variable:             TenYearCHD   No. Observations:                 3092\n",
            "Model:                          Logit   Df Residuals:                     3076\n",
            "Method:                           MLE   Df Model:                           15\n",
            "Date:                Wed, 03 Jan 2024   Pseudo R-squ.:                  0.1005\n",
            "Time:                        21:27:16   Log-Likelihood:                -1136.2\n",
            "converged:                       True   LL-Null:                       -1263.2\n",
            "Covariance Type:            nonrobust   LLR p-value:                 1.855e-45\n",
            "===================================================================================\n",
            "                      coef    std err          z      P>|z|      [0.025      0.975]\n",
            "-----------------------------------------------------------------------------------\n",
            "const              -7.6643      0.861     -8.901      0.000      -9.352      -5.977\n",
            "male                0.4220      0.120      3.503      0.000       0.186       0.658\n",
            "age                 0.0720      0.007      9.762      0.000       0.058       0.086\n",
            "education          -0.0146      0.054     -0.268      0.788      -0.121       0.092\n",
            "currentSmoker      -0.0153      0.176     -0.087      0.931      -0.360       0.330\n",
            "cigsPerDay          0.0241      0.007      3.293      0.001       0.010       0.038\n",
            "BPMeds              0.1666      0.298      0.560      0.576      -0.417       0.750\n",
            "prevalentStroke     0.8865      0.563      1.575      0.115      -0.217       1.990\n",
            "prevalentHyp        0.2868      0.157      1.822      0.068      -0.022       0.595\n",
            "diabetes           -0.0789      0.443     -0.178      0.859      -0.947       0.790\n",
            "totChol          5.569e-05      0.001      0.040      0.968      -0.003       0.003\n",
            "sysBP               0.0131      0.005      2.833      0.005       0.004       0.022\n",
            "diaBP              -0.0065      0.008     -0.865      0.387      -0.021       0.008\n",
            "BMI                 0.0112      0.016      0.707      0.479      -0.020       0.042\n",
            "heartRate           0.0003      0.005      0.058      0.954      -0.009       0.010\n",
            "glucose             0.0015      0.004      0.354      0.723      -0.007       0.010\n",
            "===================================================================================\n"
          ]
        }
      ]
    },
    {
      "cell_type": "markdown",
      "source": [
        "After conducting this test, several significant factors have emerged. The model has successfully converged with an optimized log-likelihood function value of approximately -1136.2. Additionally, the pseudo R-squared value around 0.1005 suggests that the model elucidates roughly 10.05% of the variance in the dependent variable, TenYearCHD. The predictors 'const', 'male', 'age', 'cigsPerDay', and 'sysBP' exhibit p-values less than or equal to 0.05, indicating their statistical significance in predicting the outcome variable 'TenYearCHD'. Notably, 'male', 'age', 'cigsPerDay', and 'sysBP' portray positive coefficients, implying a positive association with the likelihood of TenYearCHD. Furthermore, the likelihood ratio test's p-value (1.855e-45) indicates the statistical significance of the overall model containing all predictors compared to a model with no predictors."
      ],
      "metadata": {
        "id": "lk8oAlTL96eh"
      }
    },
    {
      "cell_type": "markdown",
      "source": [
        "**Second** step is to make significant factors easier to distinguish them, we can mark them in green."
      ],
      "metadata": {
        "id": "G2ZliEHGCPmw"
      }
    },
    {
      "cell_type": "code",
      "source": [
        "X_with_const = sm.add_constant(X_train)\n",
        "\n",
        "model = sm.Logit(y_train, X_with_const)\n",
        "result = model.fit()\n",
        "\n",
        "summary = result.summary()\n",
        "\n",
        "summary_html = pd.read_html(summary.tables[1].as_html(), header=0, index_col=0)[0]\n",
        "significant_summary = summary_html[summary_html['P>|z|'] <= 0.05]\n",
        "\n",
        "significant_summary_styled = significant_summary.style.apply(\n",
        "    lambda x: ['color: green' if v <= 0.05 else '' for v in x],\n",
        "    subset=['P>|z|']\n",
        ")\n",
        "\n",
        "display(significant_summary_styled)\n",
        "\n",
        "significant_factors = significant_summary.index.tolist()\n",
        "print(\"Significant Factors:\")\n",
        "print(significant_factors)"
      ],
      "metadata": {
        "colab": {
          "base_uri": "https://localhost:8080/",
          "height": 293
        },
        "id": "WmFcigAFCtwy",
        "outputId": "fe9efccf-ba10-43c4-cb68-ece3723056af"
      },
      "execution_count": 16,
      "outputs": [
        {
          "output_type": "stream",
          "name": "stdout",
          "text": [
            "Optimization terminated successfully.\n",
            "         Current function value: 0.367465\n",
            "         Iterations 7\n"
          ]
        },
        {
          "output_type": "display_data",
          "data": {
            "text/plain": [
              "<pandas.io.formats.style.Styler at 0x7964aeb75ba0>"
            ],
            "text/html": [
              "<style type=\"text/css\">\n",
              "#T_f2501_row0_col3, #T_f2501_row1_col3, #T_f2501_row2_col3, #T_f2501_row3_col3, #T_f2501_row4_col3 {\n",
              "  color: green;\n",
              "}\n",
              "</style>\n",
              "<table id=\"T_f2501\" class=\"dataframe\">\n",
              "  <thead>\n",
              "    <tr>\n",
              "      <th class=\"blank level0\" >&nbsp;</th>\n",
              "      <th id=\"T_f2501_level0_col0\" class=\"col_heading level0 col0\" >coef</th>\n",
              "      <th id=\"T_f2501_level0_col1\" class=\"col_heading level0 col1\" >std err</th>\n",
              "      <th id=\"T_f2501_level0_col2\" class=\"col_heading level0 col2\" >z</th>\n",
              "      <th id=\"T_f2501_level0_col3\" class=\"col_heading level0 col3\" >P>|z|</th>\n",
              "      <th id=\"T_f2501_level0_col4\" class=\"col_heading level0 col4\" >[0.025</th>\n",
              "      <th id=\"T_f2501_level0_col5\" class=\"col_heading level0 col5\" >0.975]</th>\n",
              "    </tr>\n",
              "  </thead>\n",
              "  <tbody>\n",
              "    <tr>\n",
              "      <th id=\"T_f2501_level0_row0\" class=\"row_heading level0 row0\" >const</th>\n",
              "      <td id=\"T_f2501_row0_col0\" class=\"data row0 col0\" >-7.664300</td>\n",
              "      <td id=\"T_f2501_row0_col1\" class=\"data row0 col1\" >0.861000</td>\n",
              "      <td id=\"T_f2501_row0_col2\" class=\"data row0 col2\" >-8.901000</td>\n",
              "      <td id=\"T_f2501_row0_col3\" class=\"data row0 col3\" >0.000000</td>\n",
              "      <td id=\"T_f2501_row0_col4\" class=\"data row0 col4\" >-9.352000</td>\n",
              "      <td id=\"T_f2501_row0_col5\" class=\"data row0 col5\" >-5.977000</td>\n",
              "    </tr>\n",
              "    <tr>\n",
              "      <th id=\"T_f2501_level0_row1\" class=\"row_heading level0 row1\" >male</th>\n",
              "      <td id=\"T_f2501_row1_col0\" class=\"data row1 col0\" >0.422000</td>\n",
              "      <td id=\"T_f2501_row1_col1\" class=\"data row1 col1\" >0.120000</td>\n",
              "      <td id=\"T_f2501_row1_col2\" class=\"data row1 col2\" >3.503000</td>\n",
              "      <td id=\"T_f2501_row1_col3\" class=\"data row1 col3\" >0.000000</td>\n",
              "      <td id=\"T_f2501_row1_col4\" class=\"data row1 col4\" >0.186000</td>\n",
              "      <td id=\"T_f2501_row1_col5\" class=\"data row1 col5\" >0.658000</td>\n",
              "    </tr>\n",
              "    <tr>\n",
              "      <th id=\"T_f2501_level0_row2\" class=\"row_heading level0 row2\" >age</th>\n",
              "      <td id=\"T_f2501_row2_col0\" class=\"data row2 col0\" >0.072000</td>\n",
              "      <td id=\"T_f2501_row2_col1\" class=\"data row2 col1\" >0.007000</td>\n",
              "      <td id=\"T_f2501_row2_col2\" class=\"data row2 col2\" >9.762000</td>\n",
              "      <td id=\"T_f2501_row2_col3\" class=\"data row2 col3\" >0.000000</td>\n",
              "      <td id=\"T_f2501_row2_col4\" class=\"data row2 col4\" >0.058000</td>\n",
              "      <td id=\"T_f2501_row2_col5\" class=\"data row2 col5\" >0.086000</td>\n",
              "    </tr>\n",
              "    <tr>\n",
              "      <th id=\"T_f2501_level0_row3\" class=\"row_heading level0 row3\" >cigsPerDay</th>\n",
              "      <td id=\"T_f2501_row3_col0\" class=\"data row3 col0\" >0.024100</td>\n",
              "      <td id=\"T_f2501_row3_col1\" class=\"data row3 col1\" >0.007000</td>\n",
              "      <td id=\"T_f2501_row3_col2\" class=\"data row3 col2\" >3.293000</td>\n",
              "      <td id=\"T_f2501_row3_col3\" class=\"data row3 col3\" >0.001000</td>\n",
              "      <td id=\"T_f2501_row3_col4\" class=\"data row3 col4\" >0.010000</td>\n",
              "      <td id=\"T_f2501_row3_col5\" class=\"data row3 col5\" >0.038000</td>\n",
              "    </tr>\n",
              "    <tr>\n",
              "      <th id=\"T_f2501_level0_row4\" class=\"row_heading level0 row4\" >sysBP</th>\n",
              "      <td id=\"T_f2501_row4_col0\" class=\"data row4 col0\" >0.013100</td>\n",
              "      <td id=\"T_f2501_row4_col1\" class=\"data row4 col1\" >0.005000</td>\n",
              "      <td id=\"T_f2501_row4_col2\" class=\"data row4 col2\" >2.833000</td>\n",
              "      <td id=\"T_f2501_row4_col3\" class=\"data row4 col3\" >0.005000</td>\n",
              "      <td id=\"T_f2501_row4_col4\" class=\"data row4 col4\" >0.004000</td>\n",
              "      <td id=\"T_f2501_row4_col5\" class=\"data row4 col5\" >0.022000</td>\n",
              "    </tr>\n",
              "  </tbody>\n",
              "</table>\n"
            ]
          },
          "metadata": {}
        },
        {
          "output_type": "stream",
          "name": "stdout",
          "text": [
            "Significant Factors:\n",
            "['const', 'male', 'age', 'cigsPerDay', 'sysBP']\n"
          ]
        }
      ]
    },
    {
      "cell_type": "markdown",
      "source": [
        "**Based on the identified factors highlighted in green ('male', 'age', 'cigsPerDay', 'sysBP'), which exhibit significance in predicting the outcome, we intend to advance our analysis by generating a confusion matrix. These factors, distinguished for their importance, pave the way for the next step in evaluating the model's performance.**"
      ],
      "metadata": {
        "id": "0ELq30bw-auk"
      }
    },
    {
      "cell_type": "markdown",
      "source": [
        "# Confusion Matrix"
      ],
      "metadata": {
        "id": "hGQ7cc2T-ebs"
      }
    },
    {
      "cell_type": "markdown",
      "source": [
        "**First** step involves generating Confusion Matrices (CM) from both the training and testing datasets."
      ],
      "metadata": {
        "id": "Nb6QKD9i-t81"
      }
    },
    {
      "cell_type": "code",
      "source": [
        "import matplotlib.pyplot as plt\n",
        "import seaborn as sns\n",
        "from sklearn.metrics import confusion_matrix\n",
        "\n",
        "significant_factors = ['male', 'age', 'cigsPerDay', 'sysBP']\n",
        "\n",
        "X_train_significant = X_train[significant_factors]\n",
        "X_train_significant = sm.add_constant(X_train_significant)\n",
        "\n",
        "logit_model_train = sm.Logit(y_train, X_train_significant)\n",
        "result_train = logit_model_train.fit()\n",
        "\n",
        "predicted_probabilities_train = result_train.predict(X_train_significant)\n",
        "\n",
        "threshold_train = 0.2  #cut_off\n",
        "predicted_classes_train = (predicted_probabilities_train > threshold_train).astype(int)\n",
        "\n",
        "conf_matrix_train = confusion_matrix(y_train, predicted_classes_train)\n",
        "\n",
        "X_test_significant = X_test[significant_factors]\n",
        "X_test_significant = sm.add_constant(X_test_significant)\n",
        "\n",
        "logit_model_test = sm.Logit(y_test, X_test_significant)\n",
        "result_test = logit_model_test.fit()\n",
        "\n",
        "predicted_probabilities_test = result_test.predict(X_test_significant)\n",
        "\n",
        "threshold_test = 0.2  #cut_off\n",
        "predicted_classes_test = (predicted_probabilities_test > threshold_test).astype(int)\n",
        "\n",
        "conf_matrix_test = confusion_matrix(y_test, predicted_classes_test)\n",
        "\n",
        "plt.figure(figsize=(12, 4))\n",
        "\n",
        "plt.subplot(1, 2, 1)\n",
        "sns.heatmap(conf_matrix_train, annot=True, fmt='d', cmap='Blues')\n",
        "plt.xlabel('Predicted labels')\n",
        "plt.ylabel('True labels')\n",
        "plt.title('Train Data Confusion Matrix (Threshold = 0.2)')\n",
        "\n",
        "plt.subplot(1, 2, 2)\n",
        "sns.heatmap(conf_matrix_test, annot=True, fmt='d', cmap='Blues')\n",
        "plt.xlabel('Predicted labels')\n",
        "plt.ylabel('True labels')\n",
        "plt.title('Test Data Confusion Matrix (Threshold = 0.2)')\n",
        "\n",
        "plt.tight_layout()\n",
        "plt.show()"
      ],
      "metadata": {
        "colab": {
          "base_uri": "https://localhost:8080/",
          "height": 493
        },
        "id": "EutoZ2yH-j_w",
        "outputId": "8ef91ab8-56eb-49e9-ed86-af91b14a24e1"
      },
      "execution_count": 17,
      "outputs": [
        {
          "output_type": "stream",
          "name": "stdout",
          "text": [
            "Optimization terminated successfully.\n",
            "         Current function value: 0.368689\n",
            "         Iterations 7\n",
            "Optimization terminated successfully.\n",
            "         Current function value: 0.347977\n",
            "         Iterations 7\n"
          ]
        },
        {
          "output_type": "display_data",
          "data": {
            "text/plain": [
              "<Figure size 1200x400 with 4 Axes>"
            ],
            "image/png": "[encoded data removed]"
          },
          "metadata": {}
        }
      ]
    },
    {
      "cell_type": "markdown",
      "source": [
        "**The logistic regression models for both the training and testing datasets have successfully converged, demonstrated by the 'Optimization terminated successfully' termination messages and a convergence within 7 iterations. The function values stand at approximately 0.368689 for the training dataset and 0.347977 for the testing dataset. Lower function values signify better fits, implying a slightly improved model performance on the testing dataset in comparison to the training dataset.**"
      ],
      "metadata": {
        "id": "h2xeJ_eW_IoU"
      }
    },
    {
      "cell_type": "markdown",
      "source": [
        "# Accuracy, precision and recall"
      ],
      "metadata": {
        "id": "ejsx9BxB_v5c"
      }
    },
    {
      "cell_type": "markdown",
      "source": [
        "**First** step involves computing the accuracy, precision, and recall metrics for both the training and test datasets.\""
      ],
      "metadata": {
        "id": "v2JCJZe8_7Pz"
      }
    },
    {
      "cell_type": "code",
      "source": [
        "TP_train = conf_matrix_train[1, 1]\n",
        "TN_train = conf_matrix_train[0, 0]\n",
        "FP_train = conf_matrix_train[0, 1]\n",
        "FN_train = conf_matrix_train[1, 0]\n",
        "\n",
        "accuracy_train = round(((TP_train + TN_train) / (TP_train + TN_train + FP_train + FN_train)) * 100, 2)\n",
        "precision_train = round((TP_train / (TP_train + FP_train)) * 100, 2)\n",
        "recall_train = round((TP_train / (TP_train + FN_train)) * 100, 2)\n",
        "\n",
        "print(\"Train Data Metrics:\")\n",
        "print(\"Accuracy:\", accuracy_train, \"%\")\n",
        "print(\"Precision:\", precision_train, \"%\")\n",
        "print(\"Recall:\", recall_train, \"%\")\n",
        "\n",
        "TP_test = conf_matrix_test[1, 1]\n",
        "TN_test = conf_matrix_test[0, 0]\n",
        "FP_test = conf_matrix_test[0, 1]\n",
        "FN_test = conf_matrix_test[1, 0]\n",
        "\n",
        "accuracy_test = round(((TP_test + TN_test) / (TP_test + TN_test + FP_test + FN_test)) * 100, 2)\n",
        "precision_test = round((TP_test / (TP_test + FP_test)) * 100, 2)\n",
        "recall_test = round((TP_test / (TP_test + FN_test)) * 100, 2)\n",
        "\n",
        "print(\"\\nTest Data Metrics:\")\n",
        "print(\"Accuracy:\", accuracy_test, \"%\")\n",
        "print(\"Precision:\", precision_test, \"%\")\n",
        "print(\"Recall:\", recall_test, \"%\")"
      ],
      "metadata": {
        "colab": {
          "base_uri": "https://localhost:8080/"
        },
        "id": "8X6M6zcmAHU1",
        "outputId": "2270d692-d068-4c1a-e55b-fc045774a28b"
      },
      "execution_count": 18,
      "outputs": [
        {
          "output_type": "stream",
          "name": "stdout",
          "text": [
            "Train Data Metrics:\n",
            "Accuracy: 76.03 %\n",
            "Precision: 28.91 %\n",
            "Recall: 47.15 %\n",
            "\n",
            "Test Data Metrics:\n",
            "Accuracy: 79.33 %\n",
            "Precision: 30.0 %\n",
            "Recall: 45.0 %\n"
          ]
        }
      ]
    },
    {
      "cell_type": "markdown",
      "source": [
        "The test set exhibits a slightly higher accuracy (79.33%) compared to the training set (76.03%), implying a reasonable generalization ability of the model to unseen data, although the difference is not substantial. Precision for the test set (30.00%) marginally surpasses that of the training set (28.91%), signifying the ratio of true positive predictions among all positive predictions made by the model. However, the recall, representing the proportion of actual positives correctly predicted by the model, is slightly lower in the test set (45.00%) than in the training set (47.15%)."
      ],
      "metadata": {
        "id": "9TQkByCebtNe"
      }
    },
    {
      "cell_type": "markdown",
      "source": [
        "**Second** step involves generating a visual chart to depict the relationship between different model performance metrics and varying thresholds."
      ],
      "metadata": {
        "id": "XWArims5AP-G"
      }
    },
    {
      "cell_type": "code",
      "source": [
        "from sklearn.metrics import accuracy_score, precision_score, recall_score\n",
        "\n",
        "X_train_significant = X_train[significant_factors]\n",
        "X_train_significant = sm.add_constant(X_train_significant)\n",
        "logit_model = sm.Logit(y_train, X_train_significant)\n",
        "result = logit_model.fit()\n",
        "\n",
        "predicted_probabilities_train = result.predict(X_train_significant)\n",
        "\n",
        "thresholds = np.linspace(0, 1, 100)\n",
        "\n",
        "accuracy_scores_train = []\n",
        "precision_scores_train = []\n",
        "recall_scores_train = []\n",
        "accuracy_scores_test = []\n",
        "precision_scores_test = []\n",
        "recall_scores_test = []\n",
        "\n",
        "for threshold in thresholds:\n",
        "\n",
        "    #train_data_metrics\n",
        "\n",
        "    predicted_classes_train = (predicted_probabilities_train > threshold).astype(int)\n",
        "    accuracy_train = accuracy_score(y_train, predicted_classes_train)\n",
        "    precision_train = precision_score(y_train, predicted_classes_train, zero_division=0)\n",
        "    recall_train = recall_score(y_train, predicted_classes_train)\n",
        "\n",
        "    accuracy_scores_train.append(accuracy_train)\n",
        "    precision_scores_train.append(precision_train)\n",
        "    recall_scores_train.append(recall_train)\n",
        "\n",
        "    #test_data_metrics\n",
        "\n",
        "    X_test_significant = X_test[significant_factors]\n",
        "    X_test_significant = sm.add_constant(X_test_significant)\n",
        "    predicted_probabilities_test = result.predict(X_test_significant)\n",
        "    predicted_classes_test = (predicted_probabilities_test > threshold).astype(int)\n",
        "    accuracy_test = accuracy_score(y_test, predicted_classes_test)\n",
        "    precision_test = precision_score(y_test, predicted_classes_test, zero_division=0)\n",
        "    recall_test = recall_score(y_test, predicted_classes_test)\n",
        "\n",
        "    accuracy_scores_test.append(accuracy_test)\n",
        "    precision_scores_test.append(precision_test)\n",
        "    recall_scores_test.append(recall_test)\n",
        "\n",
        "plt.figure(figsize=(10, 6))\n",
        "plt.plot(thresholds, accuracy_scores_train, label='Train Accuracy', color='blue', linewidth=1)\n",
        "plt.plot(thresholds, precision_scores_train, label='Train Precision', color='green', linewidth=1)\n",
        "plt.plot(thresholds, recall_scores_train, label='Train Recall', color='orange', linewidth=1)\n",
        "\n",
        "plt.plot(thresholds, accuracy_scores_test, label='Test Accuracy', color='skyblue', linestyle='--', linewidth=1)\n",
        "plt.plot(thresholds, precision_scores_test, label='Test Precision', color='lightgreen', linestyle='--', linewidth=1)\n",
        "plt.plot(thresholds, recall_scores_test, label='Test Recall', color='gold', linestyle='--', linewidth=1)\n",
        "\n",
        "plt.xlabel('Thresholds')\n",
        "plt.ylabel('Score')\n",
        "plt.title('Metrics vs Thresholds')\n",
        "plt.legend()\n",
        "plt.grid(True)\n",
        "plt.show()"
      ],
      "metadata": {
        "colab": {
          "base_uri": "https://localhost:8080/",
          "height": 616
        },
        "id": "fZlSAm3xATlF",
        "outputId": "dc814491-da4d-4587-8b3b-ff79cbfe3772"
      },
      "execution_count": 19,
      "outputs": [
        {
          "output_type": "stream",
          "name": "stdout",
          "text": [
            "Optimization terminated successfully.\n",
            "         Current function value: 0.368689\n",
            "         Iterations 7\n"
          ]
        },
        {
          "output_type": "display_data",
          "data": {
            "text/plain": [
              "<Figure size 1000x600 with 1 Axes>"
            ],
            "image/png": "[encoded data removed]"
          },
          "metadata": {}
        }
      ]
    },
    {
      "cell_type": "markdown",
      "source": [
        "The chart illustrates a trade-off between precision and recall, demonstrating an inverse relationship between these two metrics; as one metric improves, the other tends to decrease. Notably, the performance metrics exhibit considerable variation with changes in thresholds. Different thresholds prioritize distinct aspects of the model's performance, emphasizing either precision or recall. The selection of an appropriate threshold is pivotal and depends on the specific use case. Opting for a higher threshold might enhance precision at the expense of lower recall, and vice versa. Discrepancies observed between the training and test performance at specific thresholds could signal potential overfitting or underfitting issues. A substantial deviation between the two curves might indicate an overfitting scenario, emphasizing the model's adaptation primarily to the training data."
      ],
      "metadata": {
        "id": "J0-KYIHLAayF"
      }
    },
    {
      "cell_type": "markdown",
      "source": [
        "**The model demonstrates relatively satisfactory performance on both the training and test datasets. Comparatively, the test set displays slightly better accuracy and precision than the training set, albeit exhibiting slightly inferior recall. These indications possibly suggest a balanced model with minimal instances of overfitting or underfitting. Although the model reasonably predicts positive outcomes (precision) at a moderate rate, there might be potential for enhancing the model's ability to accurately identify all true positive cases (recall).**"
      ],
      "metadata": {
        "id": "bIr8h_9BKCYs"
      }
    },
    {
      "cell_type": "markdown",
      "source": [
        "# Roc curve"
      ],
      "metadata": {
        "id": "dmuioyIWcrZS"
      }
    },
    {
      "cell_type": "markdown",
      "source": [
        "**First** step - the ROC (Receiver Operating Characteristic) curve serves as a fundamental asset in logistic regression, offering a comprehensive assessment of a model's performance across a spectrum of thresholds. Its significance lies in assisting with threshold selection, evaluating model efficacy, comparing performances, and assessing robustness. This tool facilitates informed decision-making regarding model suitability and the strategic selection of thresholds tailored to specific applications, contributing to more precise and effective model utilization."
      ],
      "metadata": {
        "id": "xr2aQH_7cyPm"
      }
    },
    {
      "cell_type": "code",
      "source": [
        "from sklearn.metrics import roc_curve, auc\n",
        "\n",
        "#train_ROC_curve\n",
        "\n",
        "fpr_train, tpr_train, thresholds_train = roc_curve(y_train, predicted_probabilities_train)\n",
        "roc_auc_train = auc(fpr_train, tpr_train)\n",
        "\n",
        "#test_ROC_curve\n",
        "\n",
        "fpr_test, tpr_test, thresholds_test = roc_curve(y_test, predicted_probabilities_test)\n",
        "roc_auc_test = auc(fpr_test, tpr_test)\n",
        "\n",
        "plt.figure(figsize=(8, 6))\n",
        "plt.plot(fpr_train, tpr_train, color='blue', lw=1.5, linestyle='-', label='Train ROC curve (AUC = {:.2f})'.format(roc_auc_train))\n",
        "plt.plot(fpr_test, tpr_test, color='orange', lw=1.5, linestyle='--', label='Test ROC curve (AUC = {:.2f})'.format(roc_auc_test))\n",
        "plt.plot([0, 1], [0, 1], color='red', linestyle='--', lw=1.5, label='Random Guessing')\n",
        "plt.xlabel('False Positive Rate (FPR)')\n",
        "plt.ylabel('True Positive Rate (TPR)')\n",
        "plt.title('Receiver Operating Characteristic (ROC) Curve')\n",
        "plt.legend()\n",
        "plt.grid(True)\n",
        "plt.show()"
      ],
      "metadata": {
        "colab": {
          "base_uri": "https://localhost:8080/",
          "height": 564
        },
        "id": "f1Vc2jaTdPh5",
        "outputId": "eb4e9e26-a926-46a4-a279-4d98bb034934"
      },
      "execution_count": 20,
      "outputs": [
        {
          "output_type": "display_data",
          "data": {
            "text/plain": [
              "<Figure size 800x600 with 1 Axes>"
            ],
            "image/png": "[encoded data removed]"
          },
          "metadata": {}
        }
      ]
    },
    {
      "cell_type": "markdown",
      "source": [
        "**The closely aligned training and test AUC values signify the model's consistency in distinguishing between positive and negative cases across datasets. With AUC scores of 0.72 for the training set and 0.71 for the test set, the model demonstrates a moderate to good ability in prioritizing positive cases over negative ones, evident from the ROC curve assessment. The marginal difference in AUC between training and test sets suggests the model's satisfactory generalization to new, unseen data. This alignment indicates no significant overfitting, signifying comparable performance between the test and training sets.**\n"
      ],
      "metadata": {
        "id": "XVRfovKBeI4M"
      }
    },
    {
      "cell_type": "markdown",
      "source": [
        "# Conclusion\n"
      ],
      "metadata": {
        "id": "jbNbMdXDgZxe"
      }
    },
    {
      "cell_type": "markdown",
      "source": [
        "1. The dataset underwent meticulous examination, shedding light on crucial aspects such as its structure, missing data, and variable types. Subsequent outlier analysis and data refinement processes culminated in a cleaner dataset, laying a solid foundation for model development. Employing logistic regression, key factors like 'male', 'age', 'cigsPerDay', and 'sysBP' were pivotal in training and evaluating the models.\n",
        "2. Utilizing confusion matrices, a deep understanding of model performance was attained, delineating true positives, true negatives, false positives, and false negatives. To comprehensively assess the model's efficacy, a suite of metrics including accuracy, precision, recall, and ROC curves were instrumental across varying thresholds. This analysis illuminated the delicate balance between precision and recall, underscoring the critical role of threshold selection tailored to specific use cases.\n",
        "3. The ROC curve emerged as a powerful tool, offering a panoramic view of the model's performance across diverse thresholds, effectively discerning between positive and negative cases. Remarkably, minor disparities in AUC values between the training and test datasets indicated the model's adeptness in generalizing to new data, signaling minimal overfitting.\n",
        "4. Consistency prevailed in the model's performance across multiple evaluation metrics, corroborating its aptitude for predicting Ten-Year Coronary Heart Disease (CHD) risk. Its ability to generalize to new, unseen data without significant overfitting underscores its promise for practical applications.\n",
        "5. Summarily, the exhaustive evaluation of the logistic regression model through varied analyses and metrics validates its effectiveness in forecasting CHD risk. This robust performance beckons further exploration and potential real-world deployment post-validation and fine-tuning."
      ],
      "metadata": {
        "id": "u3-BFheEge1p"
      }
    },
    {
      "cell_type": "markdown",
      "source": [
        "# Appendix"
      ],
      "metadata": {
        "id": "szykgZaB5WgQ"
      }
    },
    {
      "cell_type": "markdown",
      "source": [
        "The Minimum Requirements for the Graded Task:\n",
        "\n",
        "1. Use Python data types: a list, a dictionary, an array, a dataframe:\n",
        "\n",
        "    a)\tList - Columns to Check: In the code for examining the dataset, columns_to_check is a list containing column names like 'male', 'age', 'education', etc. And results Storage: The results list stored individual DataFrames containing information about missing values, data types, etc., for each column.\n",
        "    \n",
        "    b)\tDictionary - Outlier Count: The outliers_count dictionary held information about the count of outliers in specific columns.\n",
        "    \n",
        "    c)\tArray - Outlier Mask: The outliers_mask variable used NumPy arrays as boolean masks to filter outliers in the dataset.\n",
        "    \n",
        "    d)\tDataFrame- Dataset Handling: The original dataset and its operations, such as reading from an Excel file (df = pd.read_excel('Graded task Reg.xlsx')) and the subsequent cleaning and analysis, were done using DataFrames. The final_result DataFrame was created by concatenating results from the examination of columns.\n",
        "    \n",
        "2. Use Python functions to work with a dataset: join, filter, delete elements, etc.:\n",
        "\n",
        "    a)\tJoining DataFrames - using functions like pd.merge() or pd.concat() for combining DataFrames based on a common column.\n",
        "    \n",
        "    b)\tFiltering DataFrames: Filtering rows based on certain conditions was performed using conditional statements or functions like indexing with conditions (df['column'] > value) to filter rows that meet specific criteria.\n",
        "    \n",
        "    c)Deleting Elements: Removing columns or rows was done using slicing or functions like drop() or boolean indexing to exclude specific rows or columns from a DataFrame.\n",
        "\n",
        "3. Use Numpy and Pandas packages:\n",
        "\n",
        "    a)\tPandas - used Pandas for tasks like reading an Excel file (pd.read_excel('Graded task Reg.xlsx')). And data manipulation operations such as checking missing values (df[col].isnull().sum()), getting value counts (df[col].value_counts()), and filtering rows (df.drop('TenYearCHD', axis=1)). Also with DataFrame concatenation (pd.concat(results, ignore_index=True)).\n",
        "    \n",
        "    b)\tNumPy - utilized NumPy for statistical operations like computing z-scores (stats.zscore(df[col])) for outlier detection. And creating NumPy arrays or masks to identify outliers or for other data manipulation tasks (np.zeros(len(df), dtype=bool)).\n",
        "\n",
        "4. Use at least one package for visualization: Matplotlib, Seaborn, Plotly:\n",
        "\n",
        "    a)\tMatplotlib - used Matplotlib for creating various plots, such as line plots (plt.plot()), heatmaps (plt.figure(), sns.heatmap()), and ROC curves (plt.plot()).\n",
        "    \n",
        "    b)\tSeaborn - utilized Seaborn for creating heatmaps (sns.heatmap()).\n",
        "    \n",
        "    c)\tI didnt use Plotly in my code.\n",
        "\n",
        "5. Use at least 3 different charts in your project:\n",
        "\n",
        "    a)\tLine Plot - used line plots to display the relationship between different evaluation metrics (accuracy, precision, recall) and thresholds. The code utilized plt.plot() to create these line plots.\n",
        "   \n",
        "    b)\tHeatmaps - employed heatmaps using Seaborn (sns.heatmap()) to visualize confusion matrices for both the training and test datasets.\n",
        "    \n",
        "    c)\tROC Curve - generated ROC curves for both the training and test datasets using Matplotlib (plt.plot()). These curves help evaluate the performance of the logistic regression model at various thresholds.\n",
        "\n",
        "\n"
      ],
      "metadata": {
        "id": "0UY6Bt--5fDn"
      }
    }
  ]
}